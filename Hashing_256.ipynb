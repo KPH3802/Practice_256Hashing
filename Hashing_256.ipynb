{
 "metadata": {
  "language_info": {
   "codemirror_mode": {
    "name": "ipython",
    "version": 3
   },
   "file_extension": ".py",
   "mimetype": "text/x-python",
   "name": "python",
   "nbconvert_exporter": "python",
   "pygments_lexer": "ipython3",
   "version": "3.6.10"
  },
  "orig_nbformat": 2,
  "kernelspec": {
   "name": "python3610jvsc74a57bd0492a860e0e605255d6c1ff27f2c5f2ccfd31b3224accb28f270cf72baea31c58",
   "display_name": "Python 3.6.10 64-bit ('webscrape': conda)"
  }
 },
 "nbformat": 4,
 "nbformat_minor": 2,
 "cells": [
  {
   "cell_type": "code",
   "execution_count": 1,
   "metadata": {},
   "outputs": [],
   "source": [
    "# Import Hash Library\n",
    "from hashlib import sha256"
   ]
  },
  {
   "cell_type": "code",
   "execution_count": 2,
   "metadata": {},
   "outputs": [],
   "source": [
    "# Create a string to hash\n",
    "text = \"This is a practice to learn about hashing.\""
   ]
  },
  {
   "cell_type": "code",
   "execution_count": 3,
   "metadata": {},
   "outputs": [
    {
     "output_type": "stream",
     "name": "stdout",
     "text": [
      "ddf6d0a57d650bd0d316470efc91fa665b3dd76dfb2e81c5dd89c3613ee509e4\n"
     ]
    }
   ],
   "source": [
    "# Hash the string and print out the result\n",
    "hash_result = sha256(text.encode())\n",
    "print(hash_result.hexdigest())"
   ]
  },
  {
   "cell_type": "code",
   "execution_count": 4,
   "metadata": {},
   "outputs": [],
   "source": [
    "# Change the string every so slightly to make it a statement with an exclamation point and not a period. Otherwise the string is almost the exact same.\n",
    "text2 = \"This is a practice to learn about hashing!\""
   ]
  },
  {
   "cell_type": "code",
   "execution_count": 5,
   "metadata": {},
   "outputs": [
    {
     "output_type": "stream",
     "name": "stdout",
     "text": [
      "6f967e3eb3242aee65427f5aef8d8470c2380dea6ff37650aa0a3a4b29658aed\n"
     ]
    }
   ],
   "source": [
    "# Hash the second string, store it in a new variable and print out the result. Notice how much the hash has changed and is impossible to relate the two strings even though they are almost the same string.\n",
    "hash_result2 = sha256(text2.encode())\n",
    "print(hash_result2.hexdigest())"
   ]
  },
  {
   "cell_type": "code",
   "execution_count": 6,
   "metadata": {},
   "outputs": [
    {
     "output_type": "stream",
     "name": "stdout",
     "text": [
      "ddf6d0a57d650bd0d316470efc91fa665b3dd76dfb2e81c5dd89c3613ee509e4\n"
     ]
    }
   ],
   "source": [
    "# Go back and hash the very first string noticing the hash is the exact same. Hashes stay consistant if the data is the same.\n",
    "hash_result = sha256(text.encode())\n",
    "print(hash_result.hexdigest())"
   ]
  },
  {
   "cell_type": "code",
   "execution_count": null,
   "metadata": {},
   "outputs": [],
   "source": []
  }
 ]
}